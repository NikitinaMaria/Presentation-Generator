{
 "cells": [
  {
   "cell_type": "code",
   "execution_count": 300,
   "id": "89134334",
   "metadata": {},
   "outputs": [],
   "source": [
    "os.chdir(\"..\\\\topic_modelling\")"
   ]
  },
  {
   "cell_type": "code",
   "execution_count": 279,
   "id": "541859e6",
   "metadata": {},
   "outputs": [],
   "source": [
    "# подключаем необходимые библиотеки\n",
    "\n",
    "#-----------------------------------------\n",
    "# библиотеки для работы основной части программы\n",
    "import numpy as np\n",
    "from scipy.spatial import distance\n",
    "\n",
    "import gensim\n",
    "from gensim import corpora\n",
    "from gensim.models import LdaModel\n",
    "from gensim.utils import simple_preprocess\n",
    "\n",
    "import nltk\n",
    "from nltk.corpus import stopwords\n",
    "from nltk.tokenize import sent_tokenize\n",
    "\n",
    "from pymystem3 import Mystem\n",
    "\n",
    "import os\n",
    "import sys\n",
    "#-----------------------------------------\n",
    "# библиотеки для поиска изображений в интернете\n",
    "from bing_image_downloader import downloader\n",
    "from PIL import Image\n",
    "#-----------------------------------------\n",
    "from translate import Translator"
   ]
  },
  {
   "cell_type": "code",
   "execution_count": 280,
   "id": "13cfe8d3",
   "metadata": {},
   "outputs": [],
   "source": [
    "# дополнительные стоп-слова русского языка\n",
    "with open(\"stopwords_ru.txt\", \"r\", encoding = \"utf-8\") as doc:\n",
    "    stop_words_ru = doc.read().splitlines()\n",
    "    doc.close"
   ]
  },
  {
   "cell_type": "code",
   "execution_count": 281,
   "id": "142e4077",
   "metadata": {
    "scrolled": true
   },
   "outputs": [
    {
     "name": "stderr",
     "output_type": "stream",
     "text": [
      "[nltk_data] Downloading package stopwords to\n",
      "[nltk_data]     C:\\Users\\kisnikser\\AppData\\Roaming\\nltk_data...\n",
      "[nltk_data]   Package stopwords is already up-to-date!\n"
     ]
    }
   ],
   "source": [
    "# загружаем словарь часто используемых в русском языке слов\n",
    "\n",
    "nltk.download('stopwords')\n",
    "stop_words = stopwords.words('russian')\n",
    "stop_words.extend(stop_words_ru)"
   ]
  },
  {
   "cell_type": "code",
   "execution_count": 282,
   "id": "4a2fd250",
   "metadata": {},
   "outputs": [],
   "source": [
    "# функция открытия файла на чтение\n",
    "\n",
    "def readFile():\n",
    "    file = \".\\\\texts\\\\Cats.txt\"\n",
    "    with open(file, \"r\", encoding = \"utf-8\") as doc:\n",
    "        text = doc.read()\n",
    "        doc.close()\n",
    "    return text"
   ]
  },
  {
   "cell_type": "code",
   "execution_count": 283,
   "id": "dacf660e",
   "metadata": {},
   "outputs": [],
   "source": [
    "# функция предобработки текста - возвращает (список предложений, токенизированный текст, список слов)\n",
    "\n",
    "def preprocessText(text):\n",
    "    mystem = Mystem() # лемматизатор (приводит слова к начальной форме)\n",
    "    preprocessed_text = list() # токенизированный текст (содержит основные слова, приведенные к начальной форме)\n",
    "    sentences = sent_tokenize(text, language = \"russian\") # текст, разбитый на предложения\n",
    "    for sentence in sentences:\n",
    "        tokenized_sentence = simple_preprocess(sentence, deacc = False)\n",
    "        tokenized_sentence_without_stop_words = [word for word in tokenized_sentence if word not in stop_words]\n",
    "        lemmatized_sentence = [word for word in mystem.lemmatize(\" \".join(tokenized_sentence_without_stop_words))\\\n",
    "                              if word != \" \" and word != \"\\n\"]\n",
    "        preprocessed_text.append(lemmatized_sentence)\n",
    "    words = [word for sentence in preprocessed_text for word in sentence] # список всех слов в тексте\n",
    "    return sentences, preprocessed_text, words"
   ]
  },
  {
   "cell_type": "code",
   "execution_count": 284,
   "id": "6957f983",
   "metadata": {},
   "outputs": [],
   "source": [
    "# функция возвращает словарь с вероятностями принадлежности предложений к темам (пары: sentence - (p1, p2, ..., pn))\n",
    "# и обученную на тексте модель LDA_model\n",
    "\n",
    "def getSentencesTopics(preprocessed_text, n):\n",
    "    dictionary = corpora.Dictionary(preprocessed_text)\n",
    "    corpus = [dictionary.doc2bow(sentence) for sentence in preprocessed_text]\n",
    "    # обучаем LDA модель\n",
    "    LDA_model = LdaModel(corpus = corpus, id2word = dictionary, num_topics = n, alpha = 'auto', passes = 100)\n",
    "    # создаем словарь с вероятностями принадлежности предложений к темам (пары: sentence - (p1, p2, ..., pn))\n",
    "    sentences_topics_dict = dict()\n",
    "    for k, sentence in enumerate(preprocessed_text):\n",
    "        sentence_topics = LDA_model.get_document_topics(dictionary.doc2bow(sentence), minimum_probability = 0)\n",
    "        sentences_topics_dict[k] = [prob[1] for prob in sentence_topics]\n",
    "    return sentences_topics_dict, LDA_model"
   ]
  },
  {
   "cell_type": "code",
   "execution_count": 285,
   "id": "9ae98b13",
   "metadata": {},
   "outputs": [],
   "source": [
    "# функция возвращает расстояния между соседними предложениями\n",
    "\n",
    "def getSentencesDistances(sentences_topics_dict):\n",
    "    count = len(sentences_topics_dict)\n",
    "    sentences_distances = [distance.cosine(sentences_topics_dict.get(u), sentences_topics_dict.get(v))\\\n",
    "                           for (u, v) in zip(range(count - 1), range(1, count))]\n",
    "    return sentences_distances"
   ]
  },
  {
   "cell_type": "code",
   "execution_count": 286,
   "id": "61163d6e",
   "metadata": {},
   "outputs": [],
   "source": [
    "# функция возвращает топ n-1 предложений, после которых стоит начинать новый слайд (n - количество тем)\n",
    "\n",
    "def splitText(sentences_distances, n):\n",
    "    return sorted(list(reversed(list(np.argsort(sentences_distances))))[:n-1])"
   ]
  },
  {
   "cell_type": "code",
   "execution_count": 287,
   "id": "7b44d07a",
   "metadata": {},
   "outputs": [],
   "source": [
    "# функция возвращает ключевые слова каждого абзаца\n",
    "\n",
    "def getKeyWords(LDA_model, sentences_topics_dict, n):\n",
    "    # создаем список ключевых слов каждой темы\n",
    "    topics_words = [LDA_model.show_topics(num_words = 1, formatted = False)[k][1][0][0] for k in range(n)]\n",
    "    # создаем список с вероятностями принадлежности всякого предложения каждой теме\n",
    "    sentences_topics_list = list(sentences_topics_dict.values())\n",
    "    # создаем список расстояний между соседними предложениями\n",
    "    sentences_distances = getSentencesDistances(sentences_topics_dict)\n",
    "    # создаем список номеров предложений, после которых стоит начинать новый слайд\n",
    "    nums = splitText(sentences_distances, n)\n",
    "    # создаем список номеров тем каждого абзаца\n",
    "    topics_1 = [np.argmax(np.mean(sentences_topics_list[0:nums[0]+1], axis = 0))]\n",
    "    topics_2 = [np.argmax(np.mean(sentences_topics_list[u+1:v+1], axis = 0)) for (u, v) in zip(nums[:-1], nums[1:])]\n",
    "    topics_3 = [np.argmax(np.mean(sentences_topics_list[nums[-1]+1:], axis = 0))]\n",
    "    topics = [*topics_1, *topics_2, *topics_3]\n",
    "    # создаем список ключевых слов каждого абзаца\n",
    "    sections_words = [topics_words[k] for k in topics]\n",
    "    return sections_words"
   ]
  },
  {
   "cell_type": "code",
   "execution_count": 288,
   "id": "81721cdc",
   "metadata": {},
   "outputs": [],
   "source": [
    "# функция разделения текста на абзацы - возвращает список абзацев\n",
    "\n",
    "def getSections(sentences, sentences_distances, n):\n",
    "    nums = splitText(sentences_distances, n)\n",
    "    sections_1 = [\" \".join(sentences[0:nums[0]+1])]\n",
    "    sections_2 = [\" \".join(sentences[u+1:v+1]) for (u, v) in zip(nums[:-1], nums[1:])]\n",
    "    sections_3 = [\" \".join(sentences[nums[-1]+1:])]\n",
    "    sections = [*sections_1, *sections_2, *sections_3]\n",
    "    return sections"
   ]
  },
  {
   "cell_type": "code",
   "execution_count": 289,
   "id": "687db726",
   "metadata": {},
   "outputs": [],
   "source": [
    "def getImages(sections_words):\n",
    "    for k, word in enumerate(sections_words):\n",
    "        downloader.download(word, limit = 1, output_dir = \"../topic_modelling/images/image_\" + str(k),\\\n",
    "                            adult_filter_off = False, force_replace = False, timeout = 60, verbose = False)\n",
    "        os.system(\"rename ..\\\\topic_modelling\\\\images\\\\image_\" + str(k) + \"\\\\\" + word + \"\\\\* image_\" + str(k) + \".jpg\")\n",
    "        os.system(\"move ..\\\\topic_modelling\\\\images\\\\image_\" + str(k) + \"\\\\\" + word + \"\\\\image_\" + str(k) + \".jpg\"\\\n",
    "                  + \" ..\\\\topic_modelling\\\\images\")\n",
    "        os.system(\"rmdir /S /Q ..\\\\topic_modelling\\\\images\\\\image_\" + str(k))"
   ]
  },
  {
   "cell_type": "code",
   "execution_count": 290,
   "id": "85cd6f25",
   "metadata": {},
   "outputs": [],
   "source": [
    "# MAIN METHOD: функция разделения текста на абзацы (выполняет все действия последовательно)\n",
    "\n",
    "def makeSections(n):\n",
    "    text = readFile()\n",
    "    sentences, preprocessed_text, words = preprocessText(text)\n",
    "    sentences_topics_dict, LDA_model = getSentencesTopics(preprocessed_text, n)\n",
    "    sections_words = getKeyWords(LDA_model, sentences_topics_dict, n)\n",
    "    getImages(sections_words)\n",
    "    sentences_distances = getSentencesDistances(sentences_topics_dict)\n",
    "    sections = getSections(sentences, sentences_distances, n)\n",
    "    return sections, sections_words"
   ]
  },
  {
   "cell_type": "code",
   "execution_count": 291,
   "id": "a169e35a",
   "metadata": {},
   "outputs": [],
   "source": [
    "# функция записи абзацев в отдельные файлы\n",
    "\n",
    "def printSections(sections):\n",
    "    names = []\n",
    "    for i, section in enumerate(sections):\n",
    "        name = \"section_\" + str(i) + \".txt\"\n",
    "        names.append(name)\n",
    "        with open(\"..\\\\latex_presentation\\\\\" + name, \"w\", encoding = \"utf-8\") as fout:\n",
    "            fout.write(section)\n",
    "    return names"
   ]
  },
  {
   "cell_type": "code",
   "execution_count": 301,
   "id": "6643e2eb",
   "metadata": {},
   "outputs": [
    {
     "name": "stdout",
     "output_type": "stream",
     "text": [
      "[%] Downloading Images to C:\\Users\\kisnikser\\Documents\\GitHub\\Intelligent-Presentation-Generator\\topic_modelling\\..\\topic_modelling\\images\\image_0\\кошка\n",
      "\n",
      "\n",
      "[%] Done. Downloaded 1 images.\n",
      "[%] Downloading Images to C:\\Users\\kisnikser\\Documents\\GitHub\\Intelligent-Presentation-Generator\\topic_modelling\\..\\topic_modelling\\images\\image_1\\кошка\n",
      "\n",
      "\n",
      "[%] Done. Downloaded 1 images.\n",
      "[%] Downloading Images to C:\\Users\\kisnikser\\Documents\\GitHub\\Intelligent-Presentation-Generator\\topic_modelling\\..\\topic_modelling\\images\\image_2\\кошка\n",
      "\n",
      "\n",
      "[%] Done. Downloaded 1 images.\n"
     ]
    },
    {
     "data": {
      "text/plain": [
       "0"
      ]
     },
     "execution_count": 301,
     "metadata": {},
     "output_type": "execute_result"
    }
   ],
   "source": [
    "sections, sections_words = makeSections(3)\n",
    "sections_words_capitalized = [word.capitalize() for word in sections_words]\n",
    "translator = Translator(from_lang = \"Russian\", to_lang = \"English\")\n",
    "english_words = [translator.translate(word) for word in sections_words_capitalized]\n",
    "names = printSections(sections)\n",
    "os.system(\"move ..\\\\topic_modelling\\\\section* ..\\\\latex_presentation\")\n",
    "os.chdir(\"..\\\\latex_presentation\")\n",
    "os.system(\".\\\\main.exe \" + str(len(sections)) + \" \" + \" \".join(names) + \" \" + \" \".join(english_words))"
   ]
  }
 ],
 "metadata": {
  "kernelspec": {
   "display_name": "Python 3",
   "language": "python",
   "name": "python3"
  },
  "language_info": {
   "codemirror_mode": {
    "name": "ipython",
    "version": 3
   },
   "file_extension": ".py",
   "mimetype": "text/x-python",
   "name": "python",
   "nbconvert_exporter": "python",
   "pygments_lexer": "ipython3",
   "version": "3.8.8"
  }
 },
 "nbformat": 4,
 "nbformat_minor": 5
}
