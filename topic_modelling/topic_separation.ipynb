{
 "cells": [
  {
   "cell_type": "code",
   "execution_count": 19,
   "id": "b53dfd63",
   "metadata": {},
   "outputs": [
    {
     "name": "stderr",
     "output_type": "stream",
     "text": [
      "[nltk_data] Downloading package stopwords to\n",
      "[nltk_data]     C:\\Users\\kisnikser\\AppData\\Roaming\\nltk_data...\n",
      "[nltk_data]   Package stopwords is already up-to-date!\n",
      "[nltk_data] Downloading package punkt to\n",
      "[nltk_data]     C:\\Users\\kisnikser\\AppData\\Roaming\\nltk_data...\n",
      "[nltk_data]   Package punkt is already up-to-date!\n"
     ]
    },
    {
     "data": {
      "text/plain": [
       "True"
      ]
     },
     "execution_count": 19,
     "metadata": {},
     "output_type": "execute_result"
    }
   ],
   "source": [
    "import nltk\n",
    "nltk.download('stopwords')\n",
    "nltk.download('punkt')"
   ]
  },
  {
   "cell_type": "code",
   "execution_count": 20,
   "id": "15c161e0",
   "metadata": {},
   "outputs": [],
   "source": [
    "from nltk.corpus import stopwords\n",
    "from string import punctuation\n",
    "from pymystem3 import Mystem\n",
    "\n",
    "from nltk.tokenize import sent_tokenize\n",
    "from nltk.tokenize import word_tokenize"
   ]
  },
  {
   "cell_type": "code",
   "execution_count": 21,
   "id": "7c8350e7",
   "metadata": {},
   "outputs": [],
   "source": [
    "import pandas as pd\n",
    "import re"
   ]
  },
  {
   "cell_type": "code",
   "execution_count": 22,
   "id": "f92f3d77",
   "metadata": {},
   "outputs": [],
   "source": [
    "#Create lemmatizer and stopwords list\n",
    "mystem = Mystem() \n",
    "russian_stopwords = stopwords.words(\"russian\")"
   ]
  },
  {
   "cell_type": "code",
   "execution_count": 23,
   "id": "675bbf22",
   "metadata": {},
   "outputs": [
    {
     "data": {
      "text/plain": [
       "['и', 'в', 'во', 'не', 'что', 'он', 'на', 'я', 'с', 'со']"
      ]
     },
     "execution_count": 23,
     "metadata": {},
     "output_type": "execute_result"
    }
   ],
   "source": [
    "russian_stopwords[:10]"
   ]
  },
  {
   "cell_type": "code",
   "execution_count": 24,
   "id": "a1525f22",
   "metadata": {},
   "outputs": [],
   "source": [
    "text = open(\"text.txt\", \"r\", encoding = \"utf-8\").read()"
   ]
  },
  {
   "cell_type": "code",
   "execution_count": 25,
   "id": "3b05b582",
   "metadata": {},
   "outputs": [],
   "source": [
    "def sent_tokenize_ru(text):\n",
    "    return sent_tokenize(text, language = 'russian')"
   ]
  },
  {
   "cell_type": "code",
   "execution_count": 26,
   "id": "a6c64d3e",
   "metadata": {},
   "outputs": [],
   "source": [
    "def preprocess_text(text):\n",
    "    preprocessed_text = list()\n",
    "    for sentence in sent_tokenize_ru(text):\n",
    "        sentence = re.sub(r\"[^А-ЯЁа-яё\\s]\", \"\", sentence)\n",
    "        tokens = mystem.lemmatize(sentence.lower())\n",
    "        tokens = [token for token in tokens if token not in russian_stopwords\\\n",
    "                  and token != \" \" \\\n",
    "                  and token.strip() not in punctuation]\n",
    "        preprocessed_sentence = \" \".join(tokens)\n",
    "        preprocessed_text.append(preprocessed_sentence)\n",
    "    return preprocessed_text"
   ]
  },
  {
   "cell_type": "code",
   "execution_count": 27,
   "id": "e54594d1",
   "metadata": {},
   "outputs": [],
   "source": [
    "text_in_sentences = sent_tokenize_ru(text)"
   ]
  },
  {
   "cell_type": "code",
   "execution_count": 28,
   "id": "61f98b50",
   "metadata": {},
   "outputs": [],
   "source": [
    "preprocessed_text = preprocess_text(text)"
   ]
  },
  {
   "cell_type": "code",
   "execution_count": 29,
   "id": "2b66cbab",
   "metadata": {},
   "outputs": [],
   "source": [
    "words = \" \".join(preprocessed_text).split()"
   ]
  },
  {
   "cell_type": "code",
   "execution_count": 30,
   "id": "5b267cf4",
   "metadata": {},
   "outputs": [],
   "source": [
    "from gensim import corpora, models"
   ]
  },
  {
   "cell_type": "code",
   "execution_count": 31,
   "id": "8c0418a7",
   "metadata": {},
   "outputs": [],
   "source": [
    "dictionary = corpora.Dictionary([words]) # составляем словарь"
   ]
  },
  {
   "cell_type": "code",
   "execution_count": 32,
   "id": "8be06bac",
   "metadata": {},
   "outputs": [
    {
     "name": "stdout",
     "output_type": "stream",
     "text": [
      "None\n"
     ]
    }
   ],
   "source": [
    "print(dictionary.token2id.get(1888))"
   ]
  },
  {
   "cell_type": "code",
   "execution_count": 33,
   "id": "39f60f91",
   "metadata": {},
   "outputs": [],
   "source": [
    "corpus = dictionary.doc2bow(words)  # составляем корпус"
   ]
  },
  {
   "cell_type": "code",
   "execution_count": 34,
   "id": "eeeb1769",
   "metadata": {},
   "outputs": [],
   "source": [
    "ldamodel = models.ldamodel.LdaModel([corpus], num_topics = 4, passes = 100)"
   ]
  },
  {
   "cell_type": "code",
   "execution_count": 35,
   "id": "050ab589",
   "metadata": {},
   "outputs": [],
   "source": [
    "topics = ldamodel.print_topics(num_topics = 4, num_words = 10)"
   ]
  },
  {
   "cell_type": "code",
   "execution_count": 36,
   "id": "9af86f65",
   "metadata": {
    "scrolled": false
   },
   "outputs": [
    {
     "data": {
      "text/plain": [
       "[(0,\n",
       "  '0.046*\"128\" + 0.043*\"125\" + 0.021*\"59\" + 0.018*\"23\" + 0.018*\"124\" + 0.015*\"96\" + 0.015*\"153\" + 0.015*\"87\" + 0.012*\"164\" + 0.012*\"48\"'),\n",
       " (1,\n",
       "  '0.005*\"127\" + 0.005*\"129\" + 0.005*\"115\" + 0.005*\"116\" + 0.005*\"118\" + 0.005*\"119\" + 0.005*\"120\" + 0.005*\"121\" + 0.005*\"123\" + 0.005*\"113\"'),\n",
       " (2,\n",
       "  '0.005*\"127\" + 0.005*\"129\" + 0.005*\"115\" + 0.005*\"116\" + 0.005*\"118\" + 0.005*\"119\" + 0.005*\"120\" + 0.005*\"121\" + 0.005*\"123\" + 0.005*\"113\"'),\n",
       " (3,\n",
       "  '0.005*\"127\" + 0.005*\"129\" + 0.005*\"115\" + 0.005*\"116\" + 0.005*\"118\" + 0.005*\"119\" + 0.005*\"120\" + 0.005*\"121\" + 0.005*\"123\" + 0.005*\"113\"')]"
      ]
     },
     "execution_count": 36,
     "metadata": {},
     "output_type": "execute_result"
    }
   ],
   "source": [
    "topics"
   ]
  }
 ],
 "metadata": {
  "kernelspec": {
   "display_name": "Python 3",
   "language": "python",
   "name": "python3"
  },
  "language_info": {
   "codemirror_mode": {
    "name": "ipython",
    "version": 3
   },
   "file_extension": ".py",
   "mimetype": "text/x-python",
   "name": "python",
   "nbconvert_exporter": "python",
   "pygments_lexer": "ipython3",
   "version": "3.8.8"
  }
 },
 "nbformat": 4,
 "nbformat_minor": 5
}
